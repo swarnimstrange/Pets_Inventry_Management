{
  "nbformat": 4,
  "nbformat_minor": 0,
  "metadata": {
    "colab": {
      "name": "IMS_sell.ipynb",
      "provenance": []
    },
    "kernelspec": {
      "name": "python3",
      "display_name": "Python 3"
    },
    "language_info": {
      "name": "python"
    }
  },
  "cells": [
    {
      "cell_type": "code",
      "metadata": {
        "id": "G0BrjbqHDrCK"
      },
      "source": [
        "import json\n",
        "\n",
        "file = open(\"Pets.json\",\"r\")\n",
        "pet_data = file.read()\n",
        "file.close()"
      ],
      "execution_count": 19,
      "outputs": []
    },
    {
      "cell_type": "code",
      "metadata": {
        "colab": {
          "base_uri": "https://localhost:8080/"
        },
        "id": "oV1Zeg1BUWfs",
        "outputId": "4f46436d-a36e-4e90-e72b-8f14a9b21671"
      },
      "source": [
        "pet = json.loads(pet_data)\n",
        "pet"
      ],
      "execution_count": 20,
      "outputs": [
        {
          "output_type": "execute_result",
          "data": {
            "text/plain": [
              "{'1': {'Price': 7000, 'breed': 'Beagle', 'pet_type': 'Dog', 'quantity': 5},\n",
              " '2': {'Price': 13000, 'breed': 'Persian', 'pet_type': 'Cat', 'quantity': 4},\n",
              " '3': {'Price': 6000,\n",
              "  'breed': 'German Shephard',\n",
              "  'pet_type': 'Dog',\n",
              "  'quantity': 10},\n",
              " '4': {'Price': 3000,\n",
              "  'breed': 'Himalayan Rabbit',\n",
              "  'pet_type': 'Rabbit',\n",
              "  'quantity': 5},\n",
              " '5': {'Price': 4500,\n",
              "  'breed': 'Indian-Spitz',\n",
              "  'pet_type': 'Dog',\n",
              "  'quantity': 15},\n",
              " '6': {'Price': 15000,\n",
              "  'breed': 'American-Shorthair',\n",
              "  'pet_type': 'Cat',\n",
              "  'quantity': 2},\n",
              " '7': {'Price': 4000,\n",
              "  'breed': 'Hollad-Lop',\n",
              "  'pet_type': 'Rabbit',\n",
              "  'quantity': 1},\n",
              " '8': {'Price': 3000, 'breed': 'Rex', 'pet_type': 'Rabbit', 'quantity': 0}}"
            ]
          },
          "metadata": {},
          "execution_count": 20
        }
      ]
    },
    {
      "cell_type": "code",
      "metadata": {
        "colab": {
          "base_uri": "https://localhost:8080/"
        },
        "id": "H2JbQpjBUpPj",
        "outputId": "c11531f9-9f2f-4c93-e51b-29a84e2b4fcc"
      },
      "source": [
        "pet_id  = str(input(\"Enter the Pet Id to buy: \"))\n",
        "pet_quan = int(input(\"Enter the quantity: \"))\n",
        "\n",
        "if (pet[pet_id]['quantity']< pet_quan):\n",
        "  print(\"Sorry!! Not available in this much quantity\")\n",
        "else:\n",
        "  pet[pet_id]['quantity'] = pet[pet_id]['quantity'] - pet_quan\n",
        "  print(\"Pet Breed: \", pet[pet_id]['breed'])\n",
        "  print(\"Pet Kind: \", pet[pet_id]['pet_type'])\n",
        "  print(\"Quantity: \", pet_quan)\n",
        "  print(\"Billing Amount: \", pet[pet_id]['Price'] * pet_quan)\n",
        "  buy = {\"breed\": pet[pet_id]['breed'], \"pet_type\": pet[pet_id]['pet_type'],\"quantity\": pet_quan, \"Billing Amount\": pet[pet_id]['Price'] * pet_quan}"
      ],
      "execution_count": 33,
      "outputs": [
        {
          "output_type": "stream",
          "name": "stdout",
          "text": [
            "Enter the Pet Id to buy: 3\n",
            "Enter the quantity: 2\n",
            "Pet Breed:  German Shephard\n",
            "Pet Kind:  Dog\n",
            "Quantity:  2\n",
            "Billing Amount:  12000\n"
          ]
        }
      ]
    },
    {
      "cell_type": "code",
      "metadata": {
        "id": "vT3VYC67YWLT"
      },
      "source": [
        "pet_sell_info = json.dumps(buy)\n",
        "\n",
        "file = open(\"Pet_Sell.json\",\"a\")\n",
        "pet_data = file.write(pet_sell_info)\n",
        "file.close()"
      ],
      "execution_count": 36,
      "outputs": []
    },
    {
      "cell_type": "code",
      "metadata": {
        "colab": {
          "base_uri": "https://localhost:8080/"
        },
        "id": "8br-5BLycYSo",
        "outputId": "8f8cae1b-ca4c-491b-a7c2-ab48313cb389"
      },
      "source": [
        "pf = open(\"Pet_Sell.json\",\"r\")\n",
        "p = pf.read()\n",
        "pf.close()\n",
        "\n",
        "pet_info = json.loads(p)\n",
        "pet_info"
      ],
      "execution_count": 37,
      "outputs": [
        {
          "output_type": "execute_result",
          "data": {
            "text/plain": [
              "{'Billing Amount': 12000,\n",
              " 'breed': 'German Shephard',\n",
              " 'pet_type': 'Dog',\n",
              " 'quantity': 2}"
            ]
          },
          "metadata": {},
          "execution_count": 37
        }
      ]
    }
  ]
}