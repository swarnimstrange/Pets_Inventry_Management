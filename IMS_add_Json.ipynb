{
  "nbformat": 4,
  "nbformat_minor": 0,
  "metadata": {
    "colab": {
      "name": "IMS_add-Json.ipynb",
      "provenance": [],
      "collapsed_sections": []
    },
    "kernelspec": {
      "name": "python3",
      "display_name": "Python 3"
    },
    "language_info": {
      "name": "python"
    }
  },
  "cells": [
    {
      "cell_type": "markdown",
      "metadata": {
        "id": "W3jXvaiTS8L7"
      },
      "source": [
        "###Make Json"
      ]
    },
    {
      "cell_type": "code",
      "metadata": {
        "id": "wvgpNfFoK0ex"
      },
      "source": [
        "pets = {\n",
        "    1: {\"breed\": \"Beagle\" , \"Price\": 7000, \"pet_type\" : \"Dog\",\"quantity\" : 5},\n",
        "    2: {\"breed\": \"Persian\" , \"Price\": 13000, \"pet_type\" : \"Cat\",\"quantity\" : 4},\n",
        "    3: {\"breed\": \"German Shephard\" , \"Price\": 6000, \"pet_type\" : \"Dog\",\"quantity\" : 10},\n",
        "    4: {\"breed\": \"Himalayan Rabbit\" , \"Price\": 3000, \"pet_type\" : \"Rabbit\",\"quantity\" : 5},\n",
        "    5: {\"breed\": \"Indian-Spitz\" , \"Price\": 4500, \"pet_type\" : \"Dog\",\"quantity\" : 15},\n",
        "    6: {\"breed\": \"American-Shorthair\" , \"Price\": 15000, \"pet_type\" : \"Cat\",\"quantity\" : 2},\n",
        "    7: {\"breed\": \"Hollad-Lop\" , \"Price\": 4000, \"pet_type\" : \"Rabbit\",\"quantity\" : 1},\n",
        "}"
      ],
      "execution_count": null,
      "outputs": []
    },
    {
      "cell_type": "code",
      "metadata": {
        "colab": {
          "base_uri": "https://localhost:8080/",
          "height": 35
        },
        "id": "aj6DZhpQimdz",
        "outputId": "8759765d-7894-484a-b2de-907892a05634"
      },
      "source": [
        "pets[1]['breed']"
      ],
      "execution_count": null,
      "outputs": [
        {
          "output_type": "execute_result",
          "data": {
            "application/vnd.google.colaboratory.intrinsic+json": {
              "type": "string"
            },
            "text/plain": [
              "'Beagle'"
            ]
          },
          "metadata": {},
          "execution_count": 3
        }
      ]
    },
    {
      "cell_type": "markdown",
      "metadata": {
        "id": "QSYUG7WbIHzQ"
      },
      "source": [
        "### Add new Pet"
      ]
    },
    {
      "cell_type": "code",
      "metadata": {
        "colab": {
          "base_uri": "https://localhost:8080/",
          "height": 205
        },
        "id": "kANEds-djW4V",
        "outputId": "62e0ed5f-bc2d-4707-e887-3bdf7cb0ea66"
      },
      "source": [
        "import json\n",
        "\n",
        "id=input(\"Enter the id: \")\n",
        "breed=input(\"Enter breed: \")\n",
        "price=int(input(\"Enter Price: \"))\n",
        "pet=input(\"Enter Pet Type: \")\n",
        "quan=int(input(\"Enter Quantity: \"))\n",
        "\n",
        "pets[id] = {\"breed\": breed, \"Price\": price, \"pet_type\": pet, \"quantity\": quan}\n",
        "\n",
        "added = json.dumps(pets)\n",
        "\n",
        "added"
      ],
      "execution_count": null,
      "outputs": [
        {
          "name": "stdout",
          "output_type": "stream",
          "text": [
            "Enter the id: 8\n",
            "Enter breed: Rex\n",
            "Enter Price: 3000\n",
            "Enter Pet Type: Rabbit\n",
            "Enter Quantity: 0\n"
          ]
        },
        {
          "output_type": "execute_result",
          "data": {
            "application/vnd.google.colaboratory.intrinsic+json": {
              "type": "string"
            },
            "text/plain": [
              "'{\"1\": {\"breed\": \"Beagle\", \"Price\": 7000, \"pet_type\": \"Dog\", \"quantity\": 5}, \"2\": {\"breed\": \"Persian\", \"Price\": 13000, \"pet_type\": \"Cat\", \"quantity\": 4}, \"3\": {\"breed\": \"German Shephard\", \"Price\": 6000, \"pet_type\": \"Dog\", \"quantity\": 10}, \"4\": {\"breed\": \"Himalayan Rabbit\", \"Price\": 3000, \"pet_type\": \"Rabbit\", \"quantity\": 5}, \"5\": {\"breed\": \"Indian-Spitz\", \"Price\": 4500, \"pet_type\": \"Dog\", \"quantity\": 15}, \"6\": {\"breed\": \"American-Shorthair\", \"Price\": 15000, \"pet_type\": \"Cat\", \"quantity\": 2}, \"7\": {\"breed\": \"Hollad-Lop\", \"Price\": 4000, \"pet_type\": \"Rabbit\", \"quantity\": 1}, \"8\": {\"breed\": \"Rex\", \"Price\": 3000, \"pet_type\": \"Rabbit\", \"quantity\": 3}, \"8\": {\"breed\": \"Rex\", \"Price\": 3000, \"pet_type\": \"Rabbit\", \"quantity\": 0}}'"
            ]
          },
          "metadata": {},
          "execution_count": 36
        }
      ]
    },
    {
      "cell_type": "code",
      "metadata": {
        "id": "3qaz2NmVnPxa"
      },
      "source": [
        "pet_list = open(\"Pets.json\",\"w\")\n",
        "pet_list.write(added)\n",
        "pet_list.close()"
      ],
      "execution_count": null,
      "outputs": []
    },
    {
      "cell_type": "markdown",
      "metadata": {
        "id": "WFte6GFBIe_j"
      },
      "source": [
        "### Read "
      ]
    },
    {
      "cell_type": "code",
      "metadata": {
        "colab": {
          "base_uri": "https://localhost:8080/"
        },
        "id": "5P8B6b0aE5sh",
        "outputId": "596e0d75-d370-450e-f21a-15715eb41df1"
      },
      "source": [
        "pet_ha = open(\"Pets.json\",\"r\")\n",
        "pett = pet_ha.read()\n",
        "pet_ha.close()\n",
        "\n",
        "petta = json.loads(pett)\n",
        "petta"
      ],
      "execution_count": null,
      "outputs": [
        {
          "output_type": "execute_result",
          "data": {
            "text/plain": [
              "{'1': {'Price': 7000, 'breed': 'Beagle', 'pet_type': 'Dog', 'quantity': 5},\n",
              " '2': {'Price': 13000, 'breed': 'Persian', 'pet_type': 'Cat', 'quantity': 4},\n",
              " '3': {'Price': 6000,\n",
              "  'breed': 'German Shephard',\n",
              "  'pet_type': 'Dog',\n",
              "  'quantity': 10},\n",
              " '4': {'Price': 3000,\n",
              "  'breed': 'Himalayan Rabbit',\n",
              "  'pet_type': 'Rabbit',\n",
              "  'quantity': 5},\n",
              " '5': {'Price': 4500,\n",
              "  'breed': 'Indian-Spitz',\n",
              "  'pet_type': 'Dog',\n",
              "  'quantity': 15},\n",
              " '6': {'Price': 15000,\n",
              "  'breed': 'American-Shorthair',\n",
              "  'pet_type': 'Cat',\n",
              "  'quantity': 2},\n",
              " '7': {'Price': 4000,\n",
              "  'breed': 'Hollad-Lop',\n",
              "  'pet_type': 'Rabbit',\n",
              "  'quantity': 1},\n",
              " '8': {'Price': 3000, 'breed': 'Rex', 'pet_type': 'Rabbit', 'quantity': 0}}"
            ]
          },
          "metadata": {},
          "execution_count": 38
        }
      ]
    }
  ]
}
